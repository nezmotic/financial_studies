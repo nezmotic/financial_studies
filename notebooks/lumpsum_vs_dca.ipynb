{
 "cells": [
  {
   "cell_type": "markdown",
   "source": [
    "# Lump Sum vs DCA\n",
    "This script compares the performance of a lump sum investment\n",
    "versus a 12 month Dollar-Cost Averaging (DCA) investment strategy over a\n",
    "specific period based on historical stock data"
   ],
   "metadata": {
    "collapsed": false
   },
   "id": "7e9bc0a1fb51ffa1"
  },
  {
   "cell_type": "code",
   "outputs": [],
   "source": [
    "# Clone the repository to access additional scripts\n",
    "!git clone https://github.com/nezmotic/financial_studies.git\n",
    "import os\n",
    "os.chdir(\"financial_studies\")  # Change to the cloned repo directory\n",
    "\n",
    "# Add repo to Python path so scripts can be imported\n",
    "import sys\n",
    "sys.path.append(os.getcwd())"
   ],
   "metadata": {
    "collapsed": false
   },
   "id": "cd6b7666907ce4de"
  },
  {
   "cell_type": "code",
   "outputs": [],
   "source": [
    "import matplotlib.pyplot as plt\n",
    "import numpy as np\n",
    "from scripts.lumpsum_vs_dca_core import run_simulation"
   ],
   "metadata": {
    "collapsed": false
   },
   "id": "c9da02e16a468421"
  },
  {
   "cell_type": "markdown",
   "source": [
    "## Configuration\n",
    "Adjust these parameters to run different scenarios"
   ],
   "metadata": {
    "collapsed": false
   },
   "id": "d6edc76666c858b1"
  },
  {
   "cell_type": "code",
   "outputs": [],
   "source": [
    "CONFIG = {\n",
    "    'initial_investment': 100000,       # Total investment amount\n",
    "    'investment_period_years': 30,      # Investment duration\n",
    "    'monthly_investment': 100000/12,    # DCA monthly amount\n",
    "    'stock_id': '^GSPC',                # Reference index\n",
    "    'annual_return': 0.07               # Expected annual return\n",
    "}"
   ],
   "metadata": {
    "collapsed": false
   },
   "id": "f873734bda315708"
  },
  {
   "cell_type": "markdown",
   "source": [
    "## Run Simulation\n",
    "Simulate lumps sum and DCA investment for all possible investment windows"
   ],
   "metadata": {
    "collapsed": false
   },
   "id": "4a6d83b55ca326a3"
  },
  {
   "cell_type": "code",
   "outputs": [],
   "source": [
    "results_df = run_simulation(CONFIG)"
   ],
   "metadata": {
    "collapsed": false
   },
   "id": "dc70bdca8ffdb43c"
  },
  {
   "cell_type": "markdown",
   "source": [
    "## Analysis & Visualization\n",
    "Analyze and compare the distribution of the final portfolio values"
   ],
   "metadata": {
    "collapsed": false
   },
   "id": "2c7df42c3dfbaf23"
  },
  {
   "cell_type": "code",
   "outputs": [],
   "source": [
    "# Calculate statistics\n",
    "metrics = {\n",
    "    'Lump Sum Mean': results_df['Lump Sum'].mean(),\n",
    "    'DCA Mean': results_df['DCA'].mean(),\n",
    "    'Lump Sum Median': results_df['Lump Sum'].median(),\n",
    "    'DCA Median': results_df['DCA'].median(),\n",
    "    'Lump Sum 1st %': np.percentile(results_df['Lump Sum'], 1),\n",
    "    'DCA 1st %': np.percentile(results_df['DCA'], 1)\n",
    "}\n",
    "\n",
    "# Create visualization\n",
    "plt.figure(figsize=(14, 6))\n",
    "\n",
    "# Lump Sum distribution\n",
    "plt.subplot(1, 2, 1)\n",
    "plt.hist(results_df['Lump Sum'], bins=50, alpha=0.7, color='navy', edgecolor='black')\n",
    "plt.axvline(metrics['Lump Sum Mean'], color='red', linestyle='--', label='Mean')\n",
    "plt.axvline(metrics['Lump Sum Median'], color='orange', linestyle='--', label='Median')\n",
    "plt.axvline(metrics['Lump Sum 1st %'], color='purple', linestyle='dashed', linewidth=1, label='1st Percentile')\n",
    "plt.title('Lump Sum Performance')\n",
    "plt.xlabel('Portfolio Value (€)')\n",
    "plt.ylabel('Frequency')\n",
    "plt.legend()\n",
    "\n",
    "# DCA distribution\n",
    "plt.subplot(1, 2, 2)\n",
    "plt.hist(results_df['DCA'], bins=50, alpha=0.7, color='green', edgecolor='black')\n",
    "plt.axvline(metrics['DCA Mean'], color='red', linestyle='--', label='Mean')\n",
    "plt.axvline(metrics['DCA Median'], color='orange', linestyle='--', label='Median')\n",
    "plt.axvline(metrics['DCA 1st %'], color='purple', linestyle='dashed', linewidth=1, label='1st Percentile')\n",
    "plt.title('DCA Performance')\n",
    "plt.xlabel('Portfolio Value (€)')\n",
    "plt.legend()\n",
    "\n",
    "plt.tight_layout()\n",
    "plt.show()"
   ],
   "metadata": {
    "collapsed": false
   },
   "id": "e47f11bd4d25120e"
  },
  {
   "cell_type": "markdown",
   "source": [
    "## Comparative Metrics\n",
    "Display and compare the key metrics of both investment strategies"
   ],
   "metadata": {
    "collapsed": false
   },
   "id": "e9b866b4b9ce11eb"
  },
  {
   "cell_type": "code",
   "outputs": [],
   "source": [
    "print(f\"Lump Sum: Average Final Value: €{metrics['Lump Sum Mean']:,.2f}\")\n",
    "print(f\"Lump Sum: Median Final Value: €{metrics['Lump Sum Median']:,.2f}\")\n",
    "print(f\"Lump Sum: 1st Percentile Value: €{metrics['Lump Sum 1st %']:,.2f}\")\n",
    "\n",
    "print(f\"DCA: Average Final Value: €{metrics['DCA Mean']:,.2f}\")\n",
    "print(f\"DCA: Median Final Value: €{metrics['DCA Median']:,.2f}\")\n",
    "print(f\"DCA: 1st Percentile Value: €{metrics['DCA 1st %']:,.2f}\")"
   ],
   "metadata": {
    "collapsed": false
   },
   "id": "115ec482a784ff69"
  }
 ],
 "metadata": {
  "kernelspec": {
   "display_name": "Python 3",
   "language": "python",
   "name": "python3"
  },
  "language_info": {
   "codemirror_mode": {
    "name": "ipython",
    "version": 2
   },
   "file_extension": ".py",
   "mimetype": "text/x-python",
   "name": "python",
   "nbconvert_exporter": "python",
   "pygments_lexer": "ipython2",
   "version": "2.7.6"
  }
 },
 "nbformat": 4,
 "nbformat_minor": 5
}
